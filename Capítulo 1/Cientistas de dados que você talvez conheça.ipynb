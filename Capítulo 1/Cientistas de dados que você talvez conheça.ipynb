{
 "cells": [
  {
   "cell_type": "code",
   "execution_count": 32,
   "id": "8f43e7ad",
   "metadata": {},
   "outputs": [],
   "source": [
    "#Ex2: Cientistas de dados que você talvez conheça\n",
    "#1 Criando o dict de usuários\n",
    "users = [{'id': 0, 'name': 'Hero'},\n",
    "        {'id': 1, 'name': 'Dunn'},\n",
    "        {'id': 2, 'name': 'Sue'},\n",
    "        {'id': 3, 'name': 'Chi'},\n",
    "        {'id': 4, 'name': 'Thor'},\n",
    "        {'id': 5, 'name': 'Clive'},\n",
    "        {'id': 6, 'name': 'Hicks'},\n",
    "        {'id': 7, 'name': 'Devin'},\n",
    "        {'id': 8, 'name': 'Kate'},\n",
    "        {'id': 9, 'name': 'Klein'}]"
   ]
  },
  {
   "cell_type": "code",
   "execution_count": 33,
   "id": "bad004cc",
   "metadata": {},
   "outputs": [],
   "source": [
    "#2 Criando o grafo que representa os links de amizades\n",
    "friendship_pairs = [(0,1), (0,2), (1,2), (1,3), (2,3), (3,4),\n",
    "                   (4,5), (5,6), (5,7), (6,8), (7,8), (8,9)]"
   ]
  },
  {
   "cell_type": "code",
   "execution_count": 34,
   "id": "cd9ace2d",
   "metadata": {},
   "outputs": [],
   "source": [
    "#3 Inicialize o dict com uma lista vazia para cada id de usuário:\n",
    "friendships = {user['id']: [] for user in users}\n",
    "\n",
    "#Em seguida, execute um loop pelos pares de amigos para preenche-a:\n",
    "for i,j in friendship_pairs:\n",
    "    friendships[i].append(j) #adicione j como amigo do usário i\n",
    "    friendships[j].append(i) #adicione i como amigo do usuário j"
   ]
  },
  {
   "cell_type": "code",
   "execution_count": 35,
   "id": "182dd2ec",
   "metadata": {},
   "outputs": [
    {
     "data": {
      "text/plain": [
       "24"
      ]
     },
     "execution_count": 35,
     "metadata": {},
     "output_type": "execute_result"
    }
   ],
   "source": [
    "#4 Agora que colocamos as amizades em um dict, podemos facilmente fazer perguntas\n",
    "#ao nosso grafo, como \"qual o numero médio de conexões?\"\n",
    "\n",
    "#Primeiro, determinamos o numero total de conexões, somando os tamanos de todas as \n",
    "#listas de friends:\n",
    "def number_of_friends(user):\n",
    "    \"\"\"Quantos amigos tem o _user_?\"\"\"\n",
    "    user_id = user['id']\n",
    "    friends_ids = friendships[user_id]\n",
    "    return(len(friends_ids))\n",
    "\n",
    "total_connections = sum(number_of_friends(user) for user in users)\n",
    "\n",
    "total_connections"
   ]
  },
  {
   "cell_type": "code",
   "execution_count": 36,
   "id": "4d7a602e",
   "metadata": {},
   "outputs": [
    {
     "data": {
      "text/plain": [
       "2.4"
      ]
     },
     "execution_count": 36,
     "metadata": {},
     "output_type": "execute_result"
    }
   ],
   "source": [
    "#5 Em seguida, basta dividir pelo numero de usuários\n",
    "num_users = len(users)\n",
    "avg_connections = total_connections/num_users\n",
    "\n",
    "avg_connections"
   ]
  },
  {
   "cell_type": "code",
   "execution_count": 37,
   "id": "f5b7e869",
   "metadata": {},
   "outputs": [
    {
     "data": {
      "text/plain": [
       "[(1, 3),\n",
       " (2, 3),\n",
       " (3, 3),\n",
       " (5, 3),\n",
       " (8, 3),\n",
       " (0, 2),\n",
       " (4, 2),\n",
       " (6, 2),\n",
       " (7, 2),\n",
       " (9, 1)]"
      ]
     },
     "execution_count": 37,
     "metadata": {},
     "output_type": "execute_result"
    }
   ],
   "source": [
    "#6 Também é fácil encontrar as pessoas mais conectadas, ou seja, aquelas que possuem\n",
    "#o maior numero de amigos\n",
    "#começamos por criar uma lista (user_id, number_of_friends)\n",
    "num_friends_by_id = [(user['id'], number_of_friends(user)) for user in users]\n",
    "\n",
    "num_friends_by_id.sort(key=lambda id_and_friends: id_and_friends[1],\n",
    "                      reverse=True)\n",
    "\n",
    "num_friends_by_id"
   ]
  },
  {
   "cell_type": "code",
   "execution_count": 38,
   "id": "1e98340a",
   "metadata": {},
   "outputs": [
    {
     "name": "stdout",
     "output_type": "stream",
     "text": [
      "[1, 2]\n",
      "[0, 2, 3]\n",
      "[0, 1, 3]\n"
     ]
    }
   ],
   "source": [
    "#7 Código para iterar os amigos e coletar os amigos dos amigos\n",
    "def foaf_ids_bad(user):\n",
    "    \"\"\"foaf significa friend of a friend\"\"\"\n",
    "    return [foaf_id for friend_id in friendships[user['id']]\n",
    "           for foaf_id in friendships[friend_id]]\n",
    "\n",
    "print(friendships[0])\n",
    "print(friendships[1])\n",
    "print(friendships[2])"
   ]
  },
  {
   "cell_type": "code",
   "execution_count": 39,
   "id": "f481346e",
   "metadata": {},
   "outputs": [
    {
     "name": "stdout",
     "output_type": "stream",
     "text": [
      "Counter({0: 2, 5: 1})\n"
     ]
    }
   ],
   "source": [
    "#8 Vamos gerar uma contagem de amigos em comum, porém excluindo as pessoas que o usuário já conhece\n",
    "from collections import Counter\n",
    "\n",
    "def friends_of_friends(user):\n",
    "    user_id = user['id']\n",
    "    return Counter(\n",
    "            foaf_id\n",
    "            for friend_id in friendships[user_id]         #para cada amigo meu\n",
    "            for foaf_id in friendships[friend_id]         #encontre os amigos dele\n",
    "            if foaf_id != user_id                         #que não sejam eu\n",
    "            and foaf_id not in friendships[user_id]       #e não sejam meus amigos\n",
    "    )\n",
    "\n",
    "print(friends_of_friends(users[3]))"
   ]
  },
  {
   "cell_type": "code",
   "execution_count": 40,
   "id": "b94366fe",
   "metadata": {},
   "outputs": [],
   "source": [
    "#9 Como cientista de dados, talvez você queira encontra usuários como interesses em comum\n",
    "#  com efeito, para medir isso, você recebe os seguintes dados:\n",
    "interests = [(0, 'Hadoop'), (0, 'Big Data'), (0, 'HBase'), (0, 'Java'),\n",
    "             (0, 'Spark'), (0, 'Storm'), (0, 'Cassandra'),\n",
    "             (1, 'NoSQL'), (1, 'MongoDB'), (1, 'Cassandra'), (1, 'HBase'),\n",
    "              (1, 'Postgres'), (2, 'Python'), (2, 'scikit-learn'), (2, 'scipy'),\n",
    "              (2, 'numpy'), (2, 'statsmodels'), (2, 'pandas'), (3, 'R'), (3, 'Python'),\n",
    "              (3, 'statistics'), (3, 'regression'), (3, 'probability'),\n",
    "              (4, 'machine learning'), (4, 'regression'), (4, 'decision trees'),\n",
    "              (4, 'libsvm'), (5, 'Python'), (5, 'R'), (5, 'Java'), (5, 'C++'),\n",
    "              (5, 'Haskell'), (5, 'programming languages'), (6, 'statistics'),\n",
    "              (6, 'probability'), (6, 'mathematics'), (6, 'theory'),\n",
    "              (7, 'machine learning'), (7, 'scikit-learn'), (7, 'Mahout'),\n",
    "              (7, 'neural networks'), (8, 'neural networks'), (8, 'deep learning'),\n",
    "              (8, 'Big Data'), (8, 'artifical intelligence'), (9, 'Hadoop'),\n",
    "              (9, 'Java'), (9, 'MapReduce'), (9, 'Big Data')]"
   ]
  },
  {
   "cell_type": "code",
   "execution_count": 41,
   "id": "28bd023f",
   "metadata": {},
   "outputs": [
    {
     "data": {
      "text/plain": [
       "[0, 8, 9]"
      ]
     },
     "execution_count": 41,
     "metadata": {},
     "output_type": "execute_result"
    }
   ],
   "source": [
    "#10 Construindo a função que dá os usuários com o mesmo interesse\n",
    "def data_scientists_who_like(target_interest):\n",
    "    \"\"\"encontre os ids dos usuários com os mesmos gostos\"\"\"\n",
    "    return[user_id\n",
    "          for user_id, user_interest in interests\n",
    "          if user_interest == target_interest]\n",
    "\n",
    "data_scientists_who_like('Big Data')"
   ]
  },
  {
   "cell_type": "code",
   "execution_count": 42,
   "id": "b8270845",
   "metadata": {},
   "outputs": [],
   "source": [
    "#11 Quando há muitos usuários e interesses, é melhor construir um índice de interesses para os\n",
    "#   usuários\n",
    "from collections import defaultdict\n",
    "\n",
    "#As chaves são interesses, os valroes são listas de user_ids com interesse em questão\n",
    "\n",
    "user_ids_by_interest = defaultdict(list)\n",
    "\n",
    "for user_id, interest in interests:\n",
    "    user_ids_by_interest[interest].append(user_id)\n",
    "    \n",
    "#Temos que criar outro índice também, pros interesses\n",
    "\n",
    "interests_by_user_id = defaultdict(list)\n",
    "\n",
    "for user_id, interest in interests:\n",
    "    interests_by_user_id[user_id].append(interest)\n",
    "    \n",
    "    "
   ]
  },
  {
   "cell_type": "code",
   "execution_count": 46,
   "id": "03d7dfdd",
   "metadata": {},
   "outputs": [],
   "source": [
    "#12 Agora é fácil determinar quem tem mais interesses em comum, com um usuário específico\n",
    "#Basta rodar o código, a seguir:\n",
    "def most_common_interests_with(user):\n",
    "    return Counter(\n",
    "        interested_user_id\n",
    "        for interest in interests_by_user_id[user['id']]\n",
    "        for interested_user_id in user_ids_by_interest[interest]\n",
    "        if interested_user_id != user['id'])"
   ]
  },
  {
   "cell_type": "code",
   "execution_count": 52,
   "id": "60323566",
   "metadata": {},
   "outputs": [
    {
     "data": {
      "text/plain": [
       "defaultdict(list,\n",
       "            {'Hadoop': [0, 9],\n",
       "             'Big Data': [0, 8, 9],\n",
       "             'HBase': [0, 1],\n",
       "             'Java': [0, 5, 9],\n",
       "             'Spark': [0],\n",
       "             'Storm': [0],\n",
       "             'Cassandra': [0, 1],\n",
       "             'NoSQL': [1],\n",
       "             'MongoDB': [1],\n",
       "             'Postgres': [1],\n",
       "             'Python': [2, 3, 5],\n",
       "             'scikit-learn': [2, 7],\n",
       "             'scipy': [2],\n",
       "             'numpy': [2],\n",
       "             'statsmodels': [2],\n",
       "             'pandas': [2],\n",
       "             'R': [3, 5],\n",
       "             'statistics': [3, 6],\n",
       "             'regression': [3, 4],\n",
       "             'probability': [3, 6],\n",
       "             'machine learning': [4, 7],\n",
       "             'decision trees': [4],\n",
       "             'libsvm': [4],\n",
       "             'C++': [5],\n",
       "             'Haskell': [5],\n",
       "             'programming languages': [5],\n",
       "             'mathematics': [6],\n",
       "             'theory': [6],\n",
       "             'Mahout': [7],\n",
       "             'neural networks': [7, 8],\n",
       "             'deep learning': [8],\n",
       "             'artifical intelligence': [8],\n",
       "             'MapReduce': [9]})"
      ]
     },
     "execution_count": 52,
     "metadata": {},
     "output_type": "execute_result"
    }
   ],
   "source": [
    "user_ids_by_interest"
   ]
  },
  {
   "cell_type": "code",
   "execution_count": 53,
   "id": "fa7b38e2",
   "metadata": {},
   "outputs": [
    {
     "data": {
      "text/plain": [
       "defaultdict(list,\n",
       "            {0: ['Hadoop',\n",
       "              'Big Data',\n",
       "              'HBase',\n",
       "              'Java',\n",
       "              'Spark',\n",
       "              'Storm',\n",
       "              'Cassandra'],\n",
       "             1: ['NoSQL', 'MongoDB', 'Cassandra', 'HBase', 'Postgres'],\n",
       "             2: ['Python',\n",
       "              'scikit-learn',\n",
       "              'scipy',\n",
       "              'numpy',\n",
       "              'statsmodels',\n",
       "              'pandas'],\n",
       "             3: ['R', 'Python', 'statistics', 'regression', 'probability'],\n",
       "             4: ['machine learning', 'regression', 'decision trees', 'libsvm'],\n",
       "             5: ['Python',\n",
       "              'R',\n",
       "              'Java',\n",
       "              'C++',\n",
       "              'Haskell',\n",
       "              'programming languages'],\n",
       "             6: ['statistics', 'probability', 'mathematics', 'theory'],\n",
       "             7: ['machine learning',\n",
       "              'scikit-learn',\n",
       "              'Mahout',\n",
       "              'neural networks'],\n",
       "             8: ['neural networks',\n",
       "              'deep learning',\n",
       "              'Big Data',\n",
       "              'artifical intelligence'],\n",
       "             9: ['Hadoop', 'Java', 'MapReduce', 'Big Data']})"
      ]
     },
     "execution_count": 53,
     "metadata": {},
     "output_type": "execute_result"
    }
   ],
   "source": [
    "interests_by_user_id"
   ]
  },
  {
   "cell_type": "code",
   "execution_count": 54,
   "id": "1c31ab29",
   "metadata": {},
   "outputs": [
    {
     "ename": "TypeError",
     "evalue": "most_common_interests_with() takes 1 positional argument but 2 were given",
     "output_type": "error",
     "traceback": [
      "\u001b[0;31m---------------------------------------------------------------------------\u001b[0m",
      "\u001b[0;31mTypeError\u001b[0m                                 Traceback (most recent call last)",
      "\u001b[0;32m<ipython-input-54-c11a547a3a0a>\u001b[0m in \u001b[0;36m<module>\u001b[0;34m\u001b[0m\n\u001b[0;32m----> 1\u001b[0;31m \u001b[0mmost_common_interests_with\u001b[0m\u001b[0;34m(\u001b[0m\u001b[0;36m0\u001b[0m\u001b[0;34m,\u001b[0m \u001b[0;36m1\u001b[0m\u001b[0;34m)\u001b[0m\u001b[0;34m\u001b[0m\u001b[0;34m\u001b[0m\u001b[0m\n\u001b[0m",
      "\u001b[0;31mTypeError\u001b[0m: most_common_interests_with() takes 1 positional argument but 2 were given"
     ]
    }
   ],
   "source": []
  },
  {
   "cell_type": "code",
   "execution_count": null,
   "id": "d0664f95",
   "metadata": {},
   "outputs": [],
   "source": []
  }
 ],
 "metadata": {
  "kernelspec": {
   "display_name": "Python 3",
   "language": "python",
   "name": "python3"
  },
  "language_info": {
   "codemirror_mode": {
    "name": "ipython",
    "version": 3
   },
   "file_extension": ".py",
   "mimetype": "text/x-python",
   "name": "python",
   "nbconvert_exporter": "python",
   "pygments_lexer": "ipython3",
   "version": "3.8.8"
  }
 },
 "nbformat": 4,
 "nbformat_minor": 5
}
