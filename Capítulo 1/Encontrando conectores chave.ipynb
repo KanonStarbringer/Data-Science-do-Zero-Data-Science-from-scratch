{
 "cells": [
  {
   "cell_type": "code",
   "execution_count": 1,
   "id": "42646960",
   "metadata": {},
   "outputs": [],
   "source": [
    "#Ex1: Encontrando conectores chave\n",
    "#1 Criando o dict de usuários\n",
    "users = [{'id': 0, 'name': 'Hero'},\n",
    "        {'id': 1, 'name': 'Dunn'},\n",
    "        {'id': 2, 'name': 'Sue'},\n",
    "        {'id': 3, 'name': 'Chi'},\n",
    "        {'id': 4, 'name': 'Thor'},\n",
    "        {'id': 5, 'name': 'Clive'},\n",
    "        {'id': 6, 'name': 'Hicks'},\n",
    "        {'id': 7, 'name': 'Devin'},\n",
    "        {'id': 8, 'name': 'Kate'},\n",
    "        {'id': 9, 'name': 'Klein'}]"
   ]
  },
  {
   "cell_type": "code",
   "execution_count": 2,
   "id": "96067cb9",
   "metadata": {},
   "outputs": [],
   "source": [
    "#2 Criando o grafo que representa os links de amizades\n",
    "friendship_pairs = [(0,1), (0,2), (1,2), (1,3), (2,3), (3,4),\n",
    "                   (4,5), (5,6), (5,7), (6,8), (7,8), (8,9)]"
   ]
  },
  {
   "cell_type": "code",
   "execution_count": 3,
   "id": "ef935fb0",
   "metadata": {},
   "outputs": [],
   "source": [
    "#3 Inicialize o dict com uma lista vazia para cada id de usuário:\n",
    "friendships = {user['id']: [] for user in users}\n",
    "\n",
    "#Em seguida, execute um loop pelos pares de amigos para preenche-a:\n",
    "for i,j in friendship_pairs:\n",
    "    friendships[i].append(j) #adicione j como amigo do usário i\n",
    "    friendships[j].append(i) #adicione i como amigo do usuário j"
   ]
  },
  {
   "cell_type": "code",
   "execution_count": 7,
   "id": "8e9ae9d2",
   "metadata": {},
   "outputs": [
    {
     "data": {
      "text/plain": [
       "24"
      ]
     },
     "execution_count": 7,
     "metadata": {},
     "output_type": "execute_result"
    }
   ],
   "source": [
    "#4 Agora que colocamos as amizades em um dict, podemos facilmente fazer perguntas\n",
    "#ao nosso grafo, como \"qual o numero médio de conexões?\"\n",
    "\n",
    "#Primeiro, determinamos o numero total de conexões, somando os tamanos de todas as \n",
    "#listas de friends:\n",
    "def number_of_friends(user):\n",
    "    \"\"\"Quantos amigos tem o _user_?\"\"\"\n",
    "    user_id = user['id']\n",
    "    friends_ids = friendships[user_id]\n",
    "    return(len(friends_ids))\n",
    "\n",
    "total_connections = sum(number_of_friends(user) for user in users)\n",
    "\n",
    "total_connections"
   ]
  },
  {
   "cell_type": "code",
   "execution_count": 8,
   "id": "57d3d659",
   "metadata": {},
   "outputs": [
    {
     "data": {
      "text/plain": [
       "2.4"
      ]
     },
     "execution_count": 8,
     "metadata": {},
     "output_type": "execute_result"
    }
   ],
   "source": [
    "#5 Em seguida, basta dividir pelo numero de usuários\n",
    "num_users = len(users)\n",
    "avg_connections = total_connections/num_users\n",
    "\n",
    "avg_connections"
   ]
  },
  {
   "cell_type": "code",
   "execution_count": 12,
   "id": "399dc7f0",
   "metadata": {},
   "outputs": [
    {
     "data": {
      "text/plain": [
       "[(1, 3),\n",
       " (2, 3),\n",
       " (3, 3),\n",
       " (5, 3),\n",
       " (8, 3),\n",
       " (0, 2),\n",
       " (4, 2),\n",
       " (6, 2),\n",
       " (7, 2),\n",
       " (9, 1)]"
      ]
     },
     "execution_count": 12,
     "metadata": {},
     "output_type": "execute_result"
    }
   ],
   "source": [
    "#6 Também é fácil encontrar as pessoas mais conectadas, ou seja, aquelas que possuem\n",
    "#o maior numero de amigos\n",
    "#começamos por criar uma lista (user_id, number_of_friends)\n",
    "num_friends_by_id = [(user['id'], number_of_friends(user)) for user in users]\n",
    "\n",
    "num_friends_by_id.sort(key=lambda id_and_friends: id_and_friends[1],\n",
    "                      reverse=True)\n",
    "\n",
    "num_friends_by_id"
   ]
  },
  {
   "cell_type": "code",
   "execution_count": null,
   "id": "f7bb9d31",
   "metadata": {},
   "outputs": [],
   "source": []
  }
 ],
 "metadata": {
  "kernelspec": {
   "display_name": "Python 3",
   "language": "python",
   "name": "python3"
  },
  "language_info": {
   "codemirror_mode": {
    "name": "ipython",
    "version": 3
   },
   "file_extension": ".py",
   "mimetype": "text/x-python",
   "name": "python",
   "nbconvert_exporter": "python",
   "pygments_lexer": "ipython3",
   "version": "3.8.8"
  }
 },
 "nbformat": 4,
 "nbformat_minor": 5
}
